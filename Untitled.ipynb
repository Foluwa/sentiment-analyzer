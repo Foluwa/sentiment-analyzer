{
 "cells": [
  {
   "cell_type": "code",
   "execution_count": 27,
   "metadata": {},
   "outputs": [],
   "source": [
    "import pandas as pd\n",
    "import numpy as np\n",
    "import csv "
   ]
  },
  {
   "cell_type": "code",
   "execution_count": 28,
   "metadata": {},
   "outputs": [],
   "source": [
    "data = pd.read_csv(\"Webcoupers.csv\")"
   ]
  },
  {
   "cell_type": "code",
   "execution_count": 29,
   "metadata": {},
   "outputs": [
    {
     "data": {
      "text/html": [
       "<div>\n",
       "<style scoped>\n",
       "    .dataframe tbody tr th:only-of-type {\n",
       "        vertical-align: middle;\n",
       "    }\n",
       "\n",
       "    .dataframe tbody tr th {\n",
       "        vertical-align: top;\n",
       "    }\n",
       "\n",
       "    .dataframe thead th {\n",
       "        text-align: right;\n",
       "    }\n",
       "</style>\n",
       "<table border=\"1\" class=\"dataframe\">\n",
       "  <thead>\n",
       "    <tr style=\"text-align: right;\">\n",
       "      <th></th>\n",
       "      <th>USERID</th>\n",
       "      <th>USERNAME</th>\n",
       "      <th>USERFOLLOWERS</th>\n",
       "      <th>TEXT</th>\n",
       "      <th>CREATED</th>\n",
       "      <th>POLARITY</th>\n",
       "      <th>SUBJECTIVITY</th>\n",
       "      <th>SENTIMENT</th>\n",
       "      <th>ENCODE</th>\n",
       "    </tr>\n",
       "  </thead>\n",
       "  <tbody>\n",
       "    <tr>\n",
       "      <th>0</th>\n",
       "      <td>1.231998e+18</td>\n",
       "      <td>onisofee</td>\n",
       "      <td>614</td>\n",
       "      <td>RT @Webcoupers: They say a smile is contagious...</td>\n",
       "      <td>2020-02-24 17:43:52</td>\n",
       "      <td>0.428571</td>\n",
       "      <td>0.278571</td>\n",
       "      <td>POSITIVE</td>\n",
       "      <td>b'RT @Webcoupers: They say a smile is contagio...</td>\n",
       "    </tr>\n",
       "    <tr>\n",
       "      <th>1</th>\n",
       "      <td>1.231913e+18</td>\n",
       "      <td>motivational4u</td>\n",
       "      <td>20376</td>\n",
       "      <td>RT @rumotivational: We help businesses grow th...</td>\n",
       "      <td>2020-02-24 12:05:05</td>\n",
       "      <td>0.000000</td>\n",
       "      <td>0.000000</td>\n",
       "      <td>NEGATIVE</td>\n",
       "      <td>b'RT @rumotivational: We help businesses grow ...</td>\n",
       "    </tr>\n",
       "    <tr>\n",
       "      <th>2</th>\n",
       "      <td>1.231913e+18</td>\n",
       "      <td>b_motivational</td>\n",
       "      <td>24303</td>\n",
       "      <td>RT @rumotivational: We help businesses grow th...</td>\n",
       "      <td>2020-02-24 12:05:04</td>\n",
       "      <td>0.000000</td>\n",
       "      <td>0.000000</td>\n",
       "      <td>NEGATIVE</td>\n",
       "      <td>b'RT @rumotivational: We help businesses grow ...</td>\n",
       "    </tr>\n",
       "    <tr>\n",
       "      <th>3</th>\n",
       "      <td>1.231913e+18</td>\n",
       "      <td>motivationalltd</td>\n",
       "      <td>17758</td>\n",
       "      <td>RT @rumotivational: We help businesses grow th...</td>\n",
       "      <td>2020-02-24 12:05:03</td>\n",
       "      <td>0.000000</td>\n",
       "      <td>0.000000</td>\n",
       "      <td>NEGATIVE</td>\n",
       "      <td>b'RT @rumotivational: We help businesses grow ...</td>\n",
       "    </tr>\n",
       "    <tr>\n",
       "      <th>4</th>\n",
       "      <td>1.231913e+18</td>\n",
       "      <td>rumotivational</td>\n",
       "      <td>18373</td>\n",
       "      <td>We help businesses grow through digital platfo...</td>\n",
       "      <td>2020-02-24 12:04:32</td>\n",
       "      <td>0.000000</td>\n",
       "      <td>0.000000</td>\n",
       "      <td>NEGATIVE</td>\n",
       "      <td>b'We help businesses grow through digital plat...</td>\n",
       "    </tr>\n",
       "  </tbody>\n",
       "</table>\n",
       "</div>"
      ],
      "text/plain": [
       "         USERID         USERNAME  USERFOLLOWERS  \\\n",
       "0  1.231998e+18         onisofee            614   \n",
       "1  1.231913e+18   motivational4u          20376   \n",
       "2  1.231913e+18   b_motivational          24303   \n",
       "3  1.231913e+18  motivationalltd          17758   \n",
       "4  1.231913e+18   rumotivational          18373   \n",
       "\n",
       "                                                TEXT              CREATED  \\\n",
       "0  RT @Webcoupers: They say a smile is contagious...  2020-02-24 17:43:52   \n",
       "1  RT @rumotivational: We help businesses grow th...  2020-02-24 12:05:05   \n",
       "2  RT @rumotivational: We help businesses grow th...  2020-02-24 12:05:04   \n",
       "3  RT @rumotivational: We help businesses grow th...  2020-02-24 12:05:03   \n",
       "4  We help businesses grow through digital platfo...  2020-02-24 12:04:32   \n",
       "\n",
       "   POLARITY  SUBJECTIVITY SENTIMENT  \\\n",
       "0  0.428571      0.278571  POSITIVE   \n",
       "1  0.000000      0.000000  NEGATIVE   \n",
       "2  0.000000      0.000000  NEGATIVE   \n",
       "3  0.000000      0.000000  NEGATIVE   \n",
       "4  0.000000      0.000000  NEGATIVE   \n",
       "\n",
       "                                              ENCODE  \n",
       "0  b'RT @Webcoupers: They say a smile is contagio...  \n",
       "1  b'RT @rumotivational: We help businesses grow ...  \n",
       "2  b'RT @rumotivational: We help businesses grow ...  \n",
       "3  b'RT @rumotivational: We help businesses grow ...  \n",
       "4  b'We help businesses grow through digital plat...  "
      ]
     },
     "execution_count": 29,
     "metadata": {},
     "output_type": "execute_result"
    }
   ],
   "source": [
    "data.head()"
   ]
  },
  {
   "cell_type": "code",
   "execution_count": 30,
   "metadata": {},
   "outputs": [],
   "source": [
    "#df = pd.DataFrame(np.arange(12).reshape(12), columns=['USERID', 'USERNAME', 'USERFOLLOWERS', 'TEXT', 'CREATED', 'POLARITY', 'SUBJECTIVITY', 'SENTIMENT', 'ENCODE', 'Unnamed: 9','Unnamed: 10'])"
   ]
  },
  {
   "cell_type": "code",
   "execution_count": 31,
   "metadata": {},
   "outputs": [
    {
     "data": {
      "text/plain": [
       "0     POSITIVE\n",
       "1     NEGATIVE\n",
       "2     NEGATIVE\n",
       "3     NEGATIVE\n",
       "4     NEGATIVE\n",
       "5     NEGATIVE\n",
       "6     POSITIVE\n",
       "7     NEGATIVE\n",
       "8     NEGATIVE\n",
       "9     NEGATIVE\n",
       "10    NEGATIVE\n",
       "11    NEGATIVE\n",
       "12    NEGATIVE\n",
       "13    NEGATIVE\n",
       "14     NEUTRAL\n",
       "15    NEGATIVE\n",
       "16    NEGATIVE\n",
       "17    NEGATIVE\n",
       "18    NEGATIVE\n",
       "19    NEGATIVE\n",
       "20    NEGATIVE\n",
       "21     NEUTRAL\n",
       "22     NEUTRAL\n",
       "23    NEGATIVE\n",
       "24    NEGATIVE\n",
       "25    NEGATIVE\n",
       "26    NEGATIVE\n",
       "27    POSITIVE\n",
       "28    NEGATIVE\n",
       "29    NEGATIVE\n",
       "Name: SENTIMENT, dtype: object"
      ]
     },
     "execution_count": 31,
     "metadata": {},
     "output_type": "execute_result"
    }
   ],
   "source": [
    "data['SENTIMENT']"
   ]
  },
  {
   "cell_type": "code",
   "execution_count": 36,
   "metadata": {},
   "outputs": [
    {
     "name": "stdout",
     "output_type": "stream",
     "text": [
      "<class 'pandas.core.series.Series'>\n"
     ]
    }
   ],
   "source": [
    "print(type(data.SENTIMENT.str.split(expand=True).stack().value_counts()))"
   ]
  },
  {
   "cell_type": "code",
   "execution_count": null,
   "metadata": {},
   "outputs": [],
   "source": []
  },
  {
   "cell_type": "code",
   "execution_count": null,
   "metadata": {},
   "outputs": [],
   "source": []
  }
 ],
 "metadata": {
  "kernelspec": {
   "display_name": "Python 3",
   "language": "python",
   "name": "python3"
  },
  "language_info": {
   "codemirror_mode": {
    "name": "ipython",
    "version": 3
   },
   "file_extension": ".py",
   "mimetype": "text/x-python",
   "name": "python",
   "nbconvert_exporter": "python",
   "pygments_lexer": "ipython3",
   "version": "3.7.4"
  }
 },
 "nbformat": 4,
 "nbformat_minor": 2
}
